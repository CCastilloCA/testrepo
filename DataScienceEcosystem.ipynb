{
 "cells": [
  {
   "cell_type": "markdown",
   "id": "5c15d3f1",
   "metadata": {},
   "source": [
    "<H1>Data Science Tools and Ecosystem<H1>"
   ]
  },
  {
   "cell_type": "markdown",
   "id": "b1c12822",
   "metadata": {},
   "source": [
    "<img src=\"2-title..png\">"
   ]
  },
  {
   "cell_type": "markdown",
   "id": "791db585",
   "metadata": {},
   "source": [
    "##### In this notebook, Data Science Tools and Ecosystem are summarized.\n",
    "    "
   ]
  },
  {
   "cell_type": "markdown",
   "id": "7fc7138c",
   "metadata": {},
   "source": [
    "<img src=\"3-intro.png\">"
   ]
  },
  {
   "cell_type": "markdown",
   "id": "b97be675",
   "metadata": {},
   "source": [
    "   Objectives:\n",
    "            \n",
    "- List popular languages for Data Science\n",
    "- Some used libraries used by Data Scientists\n",
    "- Few examples\n",
    "     "
   ]
  },
  {
   "cell_type": "markdown",
   "id": "c3c66c12",
   "metadata": {},
   "source": [
    "<img src=\"10-objectives.png\">"
   ]
  },
  {
   "cell_type": "markdown",
   "id": "2a8ab3bc",
   "metadata": {},
   "source": [
    "    Some of the popular languages that Data Scientists use are:\n",
    "    \n",
    "    1. R\n",
    "    2. Scala\n",
    "    3. Java\n",
    "    4. Python"
   ]
  },
  {
   "cell_type": "markdown",
   "id": "733d1361",
   "metadata": {},
   "source": [
    "<img src=\"4-dslanguages.png\">"
   ]
  },
  {
   "cell_type": "markdown",
   "id": "38e721a1",
   "metadata": {},
   "source": [
    "    Some of the commonly used libraries used by Data Scientists include:\n",
    "    \n",
    "    1. Matplotlib\n",
    "    2. Numpy\n",
    "    3. SciPy\n",
    "    4. Pandas"
   ]
  },
  {
   "cell_type": "markdown",
   "id": "ef0e69f1",
   "metadata": {},
   "source": [
    "<img src=\"5-dslibraries.png\">"
   ]
  },
  {
   "cell_type": "markdown",
   "id": "207016e4",
   "metadata": {},
   "source": [
    "|Data Science Tools|\n",
    "|------------------|\n",
    "|TensorFlow|\n",
    "|Jupyter Notebooks|\n",
    "|RStudio|\n",
    "|Apache Spark|"
   ]
  },
  {
   "cell_type": "markdown",
   "id": "5fce9406",
   "metadata": {},
   "source": [
    "<img src=\"6-dstools.png\">"
   ]
  },
  {
   "cell_type": "markdown",
   "id": "ef7fa6e1",
   "metadata": {},
   "source": [
    "<H3>Below are a few examples of evaluating arithmetic expressions in Python<H3>"
   ]
  },
  {
   "cell_type": "markdown",
   "id": "2a3b8d08",
   "metadata": {},
   "source": [
    "<img src=\"7-introarithmetic.png\">"
   ]
  },
  {
   "cell_type": "code",
   "execution_count": 7,
   "id": "c1814a8f",
   "metadata": {},
   "outputs": [
    {
     "name": "stdout",
     "output_type": "stream",
     "text": [
      "17\n"
     ]
    }
   ],
   "source": [
    "a <- 3\n",
    "b <- 4\n",
    "c <- 5\n",
    "print((a*b)+c)"
   ]
  },
  {
   "cell_type": "markdown",
   "id": "08d244b2",
   "metadata": {},
   "source": [
    "<img src=\"8-multiplyandaddintegers.png\">"
   ]
  },
  {
   "cell_type": "code",
   "execution_count": 11,
   "id": "78351729",
   "metadata": {
    "scrolled": true
   },
   "outputs": [
    {
     "name": "stdout",
     "output_type": "stream",
     "text": [
      "3.3333333333333335\n"
     ]
    }
   ],
   "source": [
    "# This will convert 200 minutes to hours by diving by 60\n",
    "\n",
    "m = 200\n",
    "s = 60\n",
    "print(m/s)"
   ]
  },
  {
   "cell_type": "markdown",
   "id": "d44af5f2",
   "metadata": {},
   "source": [
    "<img src=\"9-hourstominutes.png\">"
   ]
  },
  {
   "cell_type": "markdown",
   "id": "83445076",
   "metadata": {},
   "source": [
    "## Author\n",
    "Christian Castillo"
   ]
  },
  {
   "cell_type": "markdown",
   "id": "6b2fd317",
   "metadata": {},
   "source": [
    "<img src=\"11-authordetails.png\">"
   ]
  }
 ],
 "metadata": {
  "kernelspec": {
   "display_name": "Python 3 (ipykernel)",
   "language": "python",
   "name": "python3"
  },
  "language_info": {
   "codemirror_mode": {
    "name": "ipython",
    "version": 3
   },
   "file_extension": ".py",
   "mimetype": "text/x-python",
   "name": "python",
   "nbconvert_exporter": "python",
   "pygments_lexer": "ipython3",
   "version": "3.11.3"
  }
 },
 "nbformat": 4,
 "nbformat_minor": 5
}
